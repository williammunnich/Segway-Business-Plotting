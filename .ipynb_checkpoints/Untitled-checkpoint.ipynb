{
 "cells": [
  {
   "cell_type": "code",
   "execution_count": 2,
   "id": "a1951835-1821-4541-8b8c-97b285a3b53a",
   "metadata": {},
   "outputs": [
    {
     "data": {
      "application/vnd.jupyter.widget-view+json": {
       "model_id": "077f2d41bf3a41d9a10818ba3932b1d1",
       "version_major": 2,
       "version_minor": 0
      },
      "text/plain": [
       "IntSlider(value=0, description='Month', max=299)"
      ]
     },
     "metadata": {},
     "output_type": "display_data"
    },
    {
     "data": {
      "application/vnd.jupyter.widget-view+json": {
       "model_id": "2cb3dadfaee2401f804de38e72cc08c8",
       "version_major": 2,
       "version_minor": 0
      },
      "text/plain": [
       "Output()"
      ]
     },
     "metadata": {},
     "output_type": "display_data"
    }
   ],
   "source": [
    "import matplotlib.pyplot as plt\n",
    "import cartopy.crs as ccrs\n",
    "import ipywidgets as widgets\n",
    "from datetime import datetime\n",
    "\n",
    "# Function to create the map\n",
    "def create_map(month_index):\n",
    "    # Calculate the year and month from the slider value\n",
    "    start_year = 2000\n",
    "    months_per_year = 12\n",
    "    year = start_year + month_index // months_per_year\n",
    "    month = (month_index % months_per_year) + 1\n",
    "    \n",
    "    # Clear previous map\n",
    "    plt.close('all')\n",
    "    fig = plt.figure(figsize=(12, 6))\n",
    "    \n",
    "    # Create a map with Plate Carree projection\n",
    "    ax = fig.add_subplot(1, 1, 1, projection=ccrs.PlateCarree())\n",
    "    ax.set_global()\n",
    "    ax.coastlines()\n",
    "    ax.gridlines(draw_labels=True)\n",
    "    \n",
    "    # Title with the current month and year\n",
    "    ax.set_title(f\"World Map - {datetime(year, month, 1).strftime('%B %Y')}\", fontsize=14)\n",
    "    \n",
    "    plt.show()\n",
    "\n",
    "# Create a slider for months from 2000 to 2024\n",
    "slider = widgets.IntSlider(value=0, min=0, max=(2024 - 2000 + 1) * 12 - 1, step=1, description='Month')\n",
    "output = widgets.Output()\n",
    "\n",
    "# Update the map whenever the slider value changes\n",
    "def on_slider_change(change):\n",
    "    with output:\n",
    "        output.clear_output(wait=True)\n",
    "        create_map(change['new'])\n",
    "\n",
    "slider.observe(on_slider_change, names='value')\n",
    "\n",
    "# Initialize map\n",
    "with output:\n",
    "    create_map(slider.value)\n",
    "\n",
    "# Display the slider and map\n",
    "display(slider, output)"
   ]
  },
  {
   "cell_type": "code",
   "execution_count": null,
   "id": "e5e7cc48-0878-4d85-af2c-0dc199022395",
   "metadata": {},
   "outputs": [],
   "source": [
    "import matplotlib.pyplot as plt\n",
    "import cartopy.crs as ccrs\n",
    "import ipywidgets as widgets\n",
    "from datetime import datetime\n",
    "\n",
    "# Define the data: city names, coordinates (latitude, longitude), and corresponding month/year\n",
    "city_data = [\n",
    "    {\"name\": \"New York\", \"coords\": (40.7128, -74.0060), \"month\": 1, \"year\": 2020},\n",
    "    {\"name\": \"London\", \"coords\": (51.5074, -0.1278), \"month\": 6, \"year\": 2020},\n",
    "    {\"name\": \"Tokyo\", \"coords\": (35.6895, 139.6917), \"month\": 12, \"year\": 2020},\n",
    "    {\"name\": \"Sydney\", \"coords\": (-33.8688, 151.2093), \"month\": 7, \"year\": 2021},\n",
    "]\n",
    "\n",
    "# Function to create the map and plot points\n",
    "def create_map(month_index):\n",
    "    # Calculate the year and month from the slider value\n",
    "    start_year = 2000\n",
    "    months_per_year = 12\n",
    "    year = start_year + month_index // months_per_year\n",
    "    month = (month_index % months_per_year) + 1\n",
    "\n",
    "    # Clear previous map\n",
    "    plt.close('all')\n",
    "    fig = plt.figure(figsize=(12, 6))\n",
    "    \n",
    "    # Create a map with Plate Carree projection\n",
    "    ax = fig.add_subplot(1, 1, 1, projection=ccrs.PlateCarree())\n",
    "    ax.set_global()\n",
    "    ax.coastlines()\n",
    "    ax.gridlines(draw_labels=True)\n",
    "    \n",
    "    # Title with the current month and year\n",
    "    ax.set_title(f\"World Map - {datetime(year, month, 1).strftime('%B %Y')}\", fontsize=14)\n",
    "    \n",
    "    # Plot cities that match the selected month and year\n",
    "    for city in city_data:\n",
    "        if city[\"month\"] == month and city[\"year\"] == year:\n",
    "            lat, lon = city[\"coords\"]\n",
    "            ax.plot(lon, lat, 'ro', markersize=8, transform=ccrs.PlateCarree())\n",
    "            ax.text(lon + 3, lat, city[\"name\"], transform=ccrs.PlateCarree())\n",
    "    \n",
    "    plt.show()\n",
    "\n",
    "# Create a slider for months from 2000 to 2024\n",
    "slider = widgets.IntSlider(value=0, min=0, max=(2024 - 2000 + 1) * 12 - 1, step=1, description='Month')\n",
    "output = widgets.Output()\n",
    "\n",
    "# Update the map whenever the slider value changes\n",
    "def on_slider_change(change):\n",
    "    with output:\n",
    "        output.clear_output(wait=True)\n",
    "        create_map(change['new'])\n",
    "\n",
    "slider.observe(on_slider_change, names='value')\n",
    "\n",
    "# Initialize map\n",
    "with output:\n",
    "    create_map(slider.value)\n",
    "\n",
    "# Display the slider and map\n",
    "display(slider, output)"
   ]
  }
 ],
 "metadata": {
  "kernelspec": {
   "display_name": "test",
   "language": "python",
   "name": "test"
  },
  "language_info": {
   "codemirror_mode": {
    "name": "ipython",
    "version": 3
   },
   "file_extension": ".py",
   "mimetype": "text/x-python",
   "name": "python",
   "nbconvert_exporter": "python",
   "pygments_lexer": "ipython3",
   "version": "3.13.0"
  }
 },
 "nbformat": 4,
 "nbformat_minor": 5
}
